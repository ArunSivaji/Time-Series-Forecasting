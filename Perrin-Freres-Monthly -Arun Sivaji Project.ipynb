{
 "cells": [
  {
   "cell_type": "code",
   "execution_count": 1,
   "id": "12ab1d0a",
   "metadata": {},
   "outputs": [],
   "source": [
    "import pandas as pd\n",
    "import numpy as np\n",
    "import matplotlib.pyplot as plt\n",
    "%matplotlib inline"
   ]
  },
  {
   "cell_type": "code",
   "execution_count": 2,
   "id": "c8f1a1f5",
   "metadata": {},
   "outputs": [],
   "source": [
    "df=pd.read_csv(\"Perrin Freres monthly champagne sales millions.csv\")"
   ]
  },
  {
   "cell_type": "code",
   "execution_count": 3,
   "id": "1470dfab",
   "metadata": {},
   "outputs": [
    {
     "data": {
      "text/html": [
       "<div>\n",
       "<style scoped>\n",
       "    .dataframe tbody tr th:only-of-type {\n",
       "        vertical-align: middle;\n",
       "    }\n",
       "\n",
       "    .dataframe tbody tr th {\n",
       "        vertical-align: top;\n",
       "    }\n",
       "\n",
       "    .dataframe thead th {\n",
       "        text-align: right;\n",
       "    }\n",
       "</style>\n",
       "<table border=\"1\" class=\"dataframe\">\n",
       "  <thead>\n",
       "    <tr style=\"text-align: right;\">\n",
       "      <th></th>\n",
       "      <th>Month</th>\n",
       "      <th>Perrin Freres monthly champagne sales millions ?64-?72</th>\n",
       "    </tr>\n",
       "  </thead>\n",
       "  <tbody>\n",
       "    <tr>\n",
       "      <th>0</th>\n",
       "      <td>1964-01</td>\n",
       "      <td>2815.0</td>\n",
       "    </tr>\n",
       "    <tr>\n",
       "      <th>1</th>\n",
       "      <td>1964-02</td>\n",
       "      <td>2672.0</td>\n",
       "    </tr>\n",
       "    <tr>\n",
       "      <th>2</th>\n",
       "      <td>1964-03</td>\n",
       "      <td>2755.0</td>\n",
       "    </tr>\n",
       "    <tr>\n",
       "      <th>3</th>\n",
       "      <td>1964-04</td>\n",
       "      <td>2721.0</td>\n",
       "    </tr>\n",
       "    <tr>\n",
       "      <th>4</th>\n",
       "      <td>1964-05</td>\n",
       "      <td>2946.0</td>\n",
       "    </tr>\n",
       "  </tbody>\n",
       "</table>\n",
       "</div>"
      ],
      "text/plain": [
       "     Month  Perrin Freres monthly champagne sales millions ?64-?72\n",
       "0  1964-01                                             2815.0     \n",
       "1  1964-02                                             2672.0     \n",
       "2  1964-03                                             2755.0     \n",
       "3  1964-04                                             2721.0     \n",
       "4  1964-05                                             2946.0     "
      ]
     },
     "execution_count": 3,
     "metadata": {},
     "output_type": "execute_result"
    }
   ],
   "source": [
    "df.head()"
   ]
  },
  {
   "cell_type": "code",
   "execution_count": 4,
   "id": "07663a8b",
   "metadata": {},
   "outputs": [
    {
     "data": {
      "text/plain": [
       "Month                                                     1\n",
       "Perrin Freres monthly champagne sales millions ?64-?72    2\n",
       "dtype: int64"
      ]
     },
     "execution_count": 4,
     "metadata": {},
     "output_type": "execute_result"
    }
   ],
   "source": [
    "df.isnull().sum()"
   ]
  },
  {
   "cell_type": "code",
   "execution_count": 5,
   "id": "d72dd143",
   "metadata": {},
   "outputs": [
    {
     "data": {
      "text/html": [
       "<div>\n",
       "<style scoped>\n",
       "    .dataframe tbody tr th:only-of-type {\n",
       "        vertical-align: middle;\n",
       "    }\n",
       "\n",
       "    .dataframe tbody tr th {\n",
       "        vertical-align: top;\n",
       "    }\n",
       "\n",
       "    .dataframe thead th {\n",
       "        text-align: right;\n",
       "    }\n",
       "</style>\n",
       "<table border=\"1\" class=\"dataframe\">\n",
       "  <thead>\n",
       "    <tr style=\"text-align: right;\">\n",
       "      <th></th>\n",
       "      <th>Month</th>\n",
       "      <th>Perrin Freres monthly champagne sales millions ?64-?72</th>\n",
       "    </tr>\n",
       "  </thead>\n",
       "  <tbody>\n",
       "    <tr>\n",
       "      <th>102</th>\n",
       "      <td>1972-07</td>\n",
       "      <td>4298.0</td>\n",
       "    </tr>\n",
       "    <tr>\n",
       "      <th>103</th>\n",
       "      <td>1972-08</td>\n",
       "      <td>1413.0</td>\n",
       "    </tr>\n",
       "    <tr>\n",
       "      <th>104</th>\n",
       "      <td>1972-09</td>\n",
       "      <td>5877.0</td>\n",
       "    </tr>\n",
       "    <tr>\n",
       "      <th>105</th>\n",
       "      <td>NaN</td>\n",
       "      <td>NaN</td>\n",
       "    </tr>\n",
       "    <tr>\n",
       "      <th>106</th>\n",
       "      <td>Perrin Freres monthly champagne sales millions...</td>\n",
       "      <td>NaN</td>\n",
       "    </tr>\n",
       "  </tbody>\n",
       "</table>\n",
       "</div>"
      ],
      "text/plain": [
       "                                                 Month  \\\n",
       "102                                            1972-07   \n",
       "103                                            1972-08   \n",
       "104                                            1972-09   \n",
       "105                                                NaN   \n",
       "106  Perrin Freres monthly champagne sales millions...   \n",
       "\n",
       "     Perrin Freres monthly champagne sales millions ?64-?72  \n",
       "102                                             4298.0       \n",
       "103                                             1413.0       \n",
       "104                                             5877.0       \n",
       "105                                                NaN       \n",
       "106                                                NaN       "
      ]
     },
     "execution_count": 5,
     "metadata": {},
     "output_type": "execute_result"
    }
   ],
   "source": [
    "df.tail()"
   ]
  },
  {
   "cell_type": "code",
   "execution_count": 6,
   "id": "c957e523",
   "metadata": {},
   "outputs": [
    {
     "data": {
      "text/html": [
       "<div>\n",
       "<style scoped>\n",
       "    .dataframe tbody tr th:only-of-type {\n",
       "        vertical-align: middle;\n",
       "    }\n",
       "\n",
       "    .dataframe tbody tr th {\n",
       "        vertical-align: top;\n",
       "    }\n",
       "\n",
       "    .dataframe thead th {\n",
       "        text-align: right;\n",
       "    }\n",
       "</style>\n",
       "<table border=\"1\" class=\"dataframe\">\n",
       "  <thead>\n",
       "    <tr style=\"text-align: right;\">\n",
       "      <th></th>\n",
       "      <th>month</th>\n",
       "      <th>Sales</th>\n",
       "    </tr>\n",
       "  </thead>\n",
       "  <tbody>\n",
       "    <tr>\n",
       "      <th>0</th>\n",
       "      <td>1964-01</td>\n",
       "      <td>2815.0</td>\n",
       "    </tr>\n",
       "    <tr>\n",
       "      <th>1</th>\n",
       "      <td>1964-02</td>\n",
       "      <td>2672.0</td>\n",
       "    </tr>\n",
       "    <tr>\n",
       "      <th>2</th>\n",
       "      <td>1964-03</td>\n",
       "      <td>2755.0</td>\n",
       "    </tr>\n",
       "    <tr>\n",
       "      <th>3</th>\n",
       "      <td>1964-04</td>\n",
       "      <td>2721.0</td>\n",
       "    </tr>\n",
       "    <tr>\n",
       "      <th>4</th>\n",
       "      <td>1964-05</td>\n",
       "      <td>2946.0</td>\n",
       "    </tr>\n",
       "  </tbody>\n",
       "</table>\n",
       "</div>"
      ],
      "text/plain": [
       "     month   Sales\n",
       "0  1964-01  2815.0\n",
       "1  1964-02  2672.0\n",
       "2  1964-03  2755.0\n",
       "3  1964-04  2721.0\n",
       "4  1964-05  2946.0"
      ]
     },
     "execution_count": 6,
     "metadata": {},
     "output_type": "execute_result"
    }
   ],
   "source": [
    "df.columns=[\"month\",\"Sales\"]\n",
    "df.head()"
   ]
  },
  {
   "cell_type": "code",
   "execution_count": 7,
   "id": "acaa0bed",
   "metadata": {},
   "outputs": [],
   "source": [
    "df.drop(105,axis=0,inplace=True)"
   ]
  },
  {
   "cell_type": "code",
   "execution_count": 8,
   "id": "b567cc92",
   "metadata": {},
   "outputs": [],
   "source": [
    "df.drop(106,axis=0,inplace=True)"
   ]
  },
  {
   "cell_type": "code",
   "execution_count": 9,
   "id": "c6af0d12",
   "metadata": {},
   "outputs": [
    {
     "data": {
      "text/html": [
       "<div>\n",
       "<style scoped>\n",
       "    .dataframe tbody tr th:only-of-type {\n",
       "        vertical-align: middle;\n",
       "    }\n",
       "\n",
       "    .dataframe tbody tr th {\n",
       "        vertical-align: top;\n",
       "    }\n",
       "\n",
       "    .dataframe thead th {\n",
       "        text-align: right;\n",
       "    }\n",
       "</style>\n",
       "<table border=\"1\" class=\"dataframe\">\n",
       "  <thead>\n",
       "    <tr style=\"text-align: right;\">\n",
       "      <th></th>\n",
       "      <th>month</th>\n",
       "      <th>Sales</th>\n",
       "    </tr>\n",
       "  </thead>\n",
       "  <tbody>\n",
       "    <tr>\n",
       "      <th>100</th>\n",
       "      <td>1972-05</td>\n",
       "      <td>4618.0</td>\n",
       "    </tr>\n",
       "    <tr>\n",
       "      <th>101</th>\n",
       "      <td>1972-06</td>\n",
       "      <td>5312.0</td>\n",
       "    </tr>\n",
       "    <tr>\n",
       "      <th>102</th>\n",
       "      <td>1972-07</td>\n",
       "      <td>4298.0</td>\n",
       "    </tr>\n",
       "    <tr>\n",
       "      <th>103</th>\n",
       "      <td>1972-08</td>\n",
       "      <td>1413.0</td>\n",
       "    </tr>\n",
       "    <tr>\n",
       "      <th>104</th>\n",
       "      <td>1972-09</td>\n",
       "      <td>5877.0</td>\n",
       "    </tr>\n",
       "  </tbody>\n",
       "</table>\n",
       "</div>"
      ],
      "text/plain": [
       "       month   Sales\n",
       "100  1972-05  4618.0\n",
       "101  1972-06  5312.0\n",
       "102  1972-07  4298.0\n",
       "103  1972-08  1413.0\n",
       "104  1972-09  5877.0"
      ]
     },
     "execution_count": 9,
     "metadata": {},
     "output_type": "execute_result"
    }
   ],
   "source": [
    "df.tail()"
   ]
  },
  {
   "cell_type": "code",
   "execution_count": 10,
   "id": "4e8992b7",
   "metadata": {},
   "outputs": [],
   "source": [
    "df[\"month\"]=pd.to_datetime(df[\"month\"])"
   ]
  },
  {
   "cell_type": "code",
   "execution_count": 11,
   "id": "1cd65ad2",
   "metadata": {},
   "outputs": [
    {
     "data": {
      "text/html": [
       "<div>\n",
       "<style scoped>\n",
       "    .dataframe tbody tr th:only-of-type {\n",
       "        vertical-align: middle;\n",
       "    }\n",
       "\n",
       "    .dataframe tbody tr th {\n",
       "        vertical-align: top;\n",
       "    }\n",
       "\n",
       "    .dataframe thead th {\n",
       "        text-align: right;\n",
       "    }\n",
       "</style>\n",
       "<table border=\"1\" class=\"dataframe\">\n",
       "  <thead>\n",
       "    <tr style=\"text-align: right;\">\n",
       "      <th></th>\n",
       "      <th>month</th>\n",
       "      <th>Sales</th>\n",
       "    </tr>\n",
       "  </thead>\n",
       "  <tbody>\n",
       "    <tr>\n",
       "      <th>0</th>\n",
       "      <td>1964-01-01</td>\n",
       "      <td>2815.0</td>\n",
       "    </tr>\n",
       "    <tr>\n",
       "      <th>1</th>\n",
       "      <td>1964-02-01</td>\n",
       "      <td>2672.0</td>\n",
       "    </tr>\n",
       "    <tr>\n",
       "      <th>2</th>\n",
       "      <td>1964-03-01</td>\n",
       "      <td>2755.0</td>\n",
       "    </tr>\n",
       "    <tr>\n",
       "      <th>3</th>\n",
       "      <td>1964-04-01</td>\n",
       "      <td>2721.0</td>\n",
       "    </tr>\n",
       "    <tr>\n",
       "      <th>4</th>\n",
       "      <td>1964-05-01</td>\n",
       "      <td>2946.0</td>\n",
       "    </tr>\n",
       "  </tbody>\n",
       "</table>\n",
       "</div>"
      ],
      "text/plain": [
       "       month   Sales\n",
       "0 1964-01-01  2815.0\n",
       "1 1964-02-01  2672.0\n",
       "2 1964-03-01  2755.0\n",
       "3 1964-04-01  2721.0\n",
       "4 1964-05-01  2946.0"
      ]
     },
     "execution_count": 11,
     "metadata": {},
     "output_type": "execute_result"
    }
   ],
   "source": [
    "df.head()"
   ]
  },
  {
   "cell_type": "code",
   "execution_count": 12,
   "id": "791fb196",
   "metadata": {},
   "outputs": [],
   "source": [
    "df.set_index(\"month\",inplace=True)"
   ]
  },
  {
   "cell_type": "code",
   "execution_count": 13,
   "id": "31312730",
   "metadata": {},
   "outputs": [
    {
     "data": {
      "text/html": [
       "<div>\n",
       "<style scoped>\n",
       "    .dataframe tbody tr th:only-of-type {\n",
       "        vertical-align: middle;\n",
       "    }\n",
       "\n",
       "    .dataframe tbody tr th {\n",
       "        vertical-align: top;\n",
       "    }\n",
       "\n",
       "    .dataframe thead th {\n",
       "        text-align: right;\n",
       "    }\n",
       "</style>\n",
       "<table border=\"1\" class=\"dataframe\">\n",
       "  <thead>\n",
       "    <tr style=\"text-align: right;\">\n",
       "      <th></th>\n",
       "      <th>Sales</th>\n",
       "    </tr>\n",
       "    <tr>\n",
       "      <th>month</th>\n",
       "      <th></th>\n",
       "    </tr>\n",
       "  </thead>\n",
       "  <tbody>\n",
       "    <tr>\n",
       "      <th>1964-01-01</th>\n",
       "      <td>2815.0</td>\n",
       "    </tr>\n",
       "    <tr>\n",
       "      <th>1964-02-01</th>\n",
       "      <td>2672.0</td>\n",
       "    </tr>\n",
       "    <tr>\n",
       "      <th>1964-03-01</th>\n",
       "      <td>2755.0</td>\n",
       "    </tr>\n",
       "    <tr>\n",
       "      <th>1964-04-01</th>\n",
       "      <td>2721.0</td>\n",
       "    </tr>\n",
       "    <tr>\n",
       "      <th>1964-05-01</th>\n",
       "      <td>2946.0</td>\n",
       "    </tr>\n",
       "  </tbody>\n",
       "</table>\n",
       "</div>"
      ],
      "text/plain": [
       "             Sales\n",
       "month             \n",
       "1964-01-01  2815.0\n",
       "1964-02-01  2672.0\n",
       "1964-03-01  2755.0\n",
       "1964-04-01  2721.0\n",
       "1964-05-01  2946.0"
      ]
     },
     "execution_count": 13,
     "metadata": {},
     "output_type": "execute_result"
    }
   ],
   "source": [
    "df.head()"
   ]
  },
  {
   "cell_type": "code",
   "execution_count": 14,
   "id": "bc990be5",
   "metadata": {},
   "outputs": [
    {
     "data": {
      "text/html": [
       "<div>\n",
       "<style scoped>\n",
       "    .dataframe tbody tr th:only-of-type {\n",
       "        vertical-align: middle;\n",
       "    }\n",
       "\n",
       "    .dataframe tbody tr th {\n",
       "        vertical-align: top;\n",
       "    }\n",
       "\n",
       "    .dataframe thead th {\n",
       "        text-align: right;\n",
       "    }\n",
       "</style>\n",
       "<table border=\"1\" class=\"dataframe\">\n",
       "  <thead>\n",
       "    <tr style=\"text-align: right;\">\n",
       "      <th></th>\n",
       "      <th>count</th>\n",
       "      <th>mean</th>\n",
       "      <th>std</th>\n",
       "      <th>min</th>\n",
       "      <th>25%</th>\n",
       "      <th>50%</th>\n",
       "      <th>75%</th>\n",
       "      <th>max</th>\n",
       "    </tr>\n",
       "  </thead>\n",
       "  <tbody>\n",
       "    <tr>\n",
       "      <th>Sales</th>\n",
       "      <td>105.0</td>\n",
       "      <td>4761.152381</td>\n",
       "      <td>2553.502601</td>\n",
       "      <td>1413.0</td>\n",
       "      <td>3113.0</td>\n",
       "      <td>4217.0</td>\n",
       "      <td>5221.0</td>\n",
       "      <td>13916.0</td>\n",
       "    </tr>\n",
       "  </tbody>\n",
       "</table>\n",
       "</div>"
      ],
      "text/plain": [
       "       count         mean          std     min     25%     50%     75%  \\\n",
       "Sales  105.0  4761.152381  2553.502601  1413.0  3113.0  4217.0  5221.0   \n",
       "\n",
       "           max  \n",
       "Sales  13916.0  "
      ]
     },
     "execution_count": 14,
     "metadata": {},
     "output_type": "execute_result"
    }
   ],
   "source": [
    "df.describe().T"
   ]
  },
  {
   "cell_type": "code",
   "execution_count": 15,
   "id": "9c73224c",
   "metadata": {},
   "outputs": [
    {
     "name": "stdout",
     "output_type": "stream",
     "text": [
      "<class 'pandas.core.frame.DataFrame'>\n",
      "DatetimeIndex: 105 entries, 1964-01-01 to 1972-09-01\n",
      "Data columns (total 1 columns):\n",
      " #   Column  Non-Null Count  Dtype  \n",
      "---  ------  --------------  -----  \n",
      " 0   Sales   105 non-null    float64\n",
      "dtypes: float64(1)\n",
      "memory usage: 1.6 KB\n"
     ]
    }
   ],
   "source": [
    "df.info()"
   ]
  },
  {
   "cell_type": "code",
   "execution_count": 16,
   "id": "d2596e2b",
   "metadata": {},
   "outputs": [
    {
     "data": {
      "text/plain": [
       "<AxesSubplot:xlabel='month'>"
      ]
     },
     "execution_count": 16,
     "metadata": {},
     "output_type": "execute_result"
    },
    {
     "data": {
      "image/png": "[encoded data removed]",
      "text/plain": [
       "<Figure size 432x288 with 1 Axes>"
      ]
     },
     "metadata": {
      "needs_background": "light"
     },
     "output_type": "display_data"
    }
   ],
   "source": [
    "df.plot()"
   ]
  },
  {
   "cell_type": "code",
   "execution_count": 17,
   "id": "13dac3c1",
   "metadata": {},
   "outputs": [],
   "source": [
    "from    statsmodels.tsa.seasonal import   seasonal_decompose"
   ]
  },
  {
   "cell_type": "code",
   "execution_count": 18,
   "id": "b915d754",
   "metadata": {},
   "outputs": [
    {
     "data": {
      "image/png": "[encoded data removed]",
      "text/plain": [
       "<Figure size 432x288 with 4 Axes>"
      ]
     },
     "metadata": {
      "needs_background": "light"
     },
     "output_type": "display_data"
    }
   ],
   "source": [
    "decomposition = seasonal_decompose(df,model='additive')\n",
    "decomposition.plot();"
   ]
  },
  {
   "cell_type": "code",
   "execution_count": 19,
   "id": "56fa1e3f",
   "metadata": {},
   "outputs": [
    {
     "data": {
      "image/png": "[encoded data removed]",
      "text/plain": [
       "<Figure size 432x288 with 4 Axes>"
      ]
     },
     "metadata": {
      "needs_background": "light"
     },
     "output_type": "display_data"
    }
   ],
   "source": [
    "decomposition = seasonal_decompose(df,model=\"multiplicative\")\n",
    "decomposition.plot();"
   ]
  },
  {
   "cell_type": "code",
   "execution_count": 20,
   "id": "984d8b96",
   "metadata": {},
   "outputs": [],
   "source": [
    "from statsmodels.tsa.stattools import adfuller"
   ]
  },
  {
   "cell_type": "markdown",
   "id": "c412ed21",
   "metadata": {},
   "source": [
    "# Ho= Non stationary\n",
    "H1=Stationary"
   ]
  },
  {
   "cell_type": "code",
   "execution_count": 21,
   "id": "091fb1fe",
   "metadata": {},
   "outputs": [],
   "source": [
    "test_result=adfuller(df[\"Sales\"])"
   ]
  },
  {
   "cell_type": "code",
   "execution_count": 22,
   "id": "a53ebdba",
   "metadata": {},
   "outputs": [],
   "source": [
    "def adfuller_test(Sales):\n",
    "    result=adfuller(Sales)\n",
    "    Labels=[\"ADF Test Statatic\",\"P-value\",\"#lags used\",\"No of observations used\"]\n",
    "    for value,Labels in zip(result,Labels):\n",
    "        print (Labels+ \":\"+str(value))\n",
    "        if result[1]<=0.05:\n",
    "            print(\"Reject Null Hypothesis, Time Series is Stionary\")\n",
    "        else:\n",
    "            print(\"Time seris is non stationay\")"
   ]
  },
  {
   "cell_type": "code",
   "execution_count": 23,
   "id": "c92fc85b",
   "metadata": {},
   "outputs": [
    {
     "name": "stdout",
     "output_type": "stream",
     "text": [
      "ADF Test Statatic:-1.8335930563276297\n",
      "Time seris is non stationay\n",
      "P-value:0.3639157716602417\n",
      "Time seris is non stationay\n",
      "#lags used:11\n",
      "Time seris is non stationay\n",
      "No of observations used:93\n",
      "Time seris is non stationay\n"
     ]
    }
   ],
   "source": [
    "adfuller_test(df[\"Sales\"])"
   ]
  },
  {
   "cell_type": "markdown",
   "id": "d3b74bd5",
   "metadata": {},
   "source": [
    "# Split the Data"
   ]
  },
  {
   "cell_type": "code",
   "execution_count": 24,
   "id": "c15701ed",
   "metadata": {},
   "outputs": [
    {
     "data": {
      "text/plain": [
       "Int64Index([1964, 1965, 1966, 1967, 1968, 1969, 1970, 1971, 1972], dtype='int64', name='month')"
      ]
     },
     "execution_count": 24,
     "metadata": {},
     "output_type": "execute_result"
    }
   ],
   "source": [
    "df.index.year.unique()"
   ]
  },
  {
   "cell_type": "code",
   "execution_count": 25,
   "id": "961af341",
   "metadata": {},
   "outputs": [],
   "source": [
    "train=df[df.index<=\"1970\"]\n",
    "test=df[df.index>\"1970\"]"
   ]
  },
  {
   "cell_type": "code",
   "execution_count": 26,
   "id": "3383a869",
   "metadata": {},
   "outputs": [
    {
     "name": "stdout",
     "output_type": "stream",
     "text": [
      "DF test statistic is -0.730\n",
      "DF test p-value is 0.9711182696090547\n",
      "Number of lags used 12\n"
     ]
    }
   ],
   "source": [
    "dftest = adfuller(train,regression='ct')\n",
    "print('DF test statistic is %3.3f' %dftest[0])\n",
    "print('DF test p-value is' ,dftest[1])\n",
    "print('Number of lags used' ,dftest[2])"
   ]
  },
  {
   "cell_type": "code",
   "execution_count": 27,
   "id": "9dcd783f",
   "metadata": {},
   "outputs": [
    {
     "name": "stdout",
     "output_type": "stream",
     "text": [
      "DF test statistic is -8.766\n",
      "DF test p-value is 1.232790818136427e-12\n",
      "Number of lags used 11\n"
     ]
    }
   ],
   "source": [
    "dftest = adfuller(train.diff().dropna(),regression='ct')\n",
    "print('DF test statistic is %3.3f' %dftest[0])\n",
    "print('DF test p-value is' ,dftest[1])\n",
    "print('Number of lags used' ,dftest[2])"
   ]
  },
  {
   "cell_type": "markdown",
   "id": "6763e41e",
   "metadata": {},
   "source": [
    "p-value is less than 0.05 so we reject Null hypothesis , hence the Time series become stationary."
   ]
  },
  {
   "cell_type": "code",
   "execution_count": 28,
   "id": "90e21ce6",
   "metadata": {},
   "outputs": [
    {
     "data": {
      "image/png": "[encoded data removed]",
      "text/plain": [
       "<Figure size 432x288 with 1 Axes>"
      ]
     },
     "metadata": {
      "needs_background": "light"
     },
     "output_type": "display_data"
    }
   ],
   "source": [
    "df.diff().dropna().plot(grid=True);"
   ]
  },
  {
   "cell_type": "markdown",
   "id": "51b44712",
   "metadata": {},
   "source": [
    "# AutoRegressive Model\n"
   ]
  },
  {
   "cell_type": "code",
   "execution_count": 29,
   "id": "205c34ad",
   "metadata": {},
   "outputs": [],
   "source": [
    "from statsmodels.graphics.tsaplots import plot_acf,plot_pacf"
   ]
  },
  {
   "cell_type": "code",
   "execution_count": 30,
   "id": "56e745ae",
   "metadata": {},
   "outputs": [
    {
     "data": {
      "image/png": "[encoded data removed]",
      "text/plain": [
       "<Figure size 432x288 with 1 Axes>"
      ]
     },
     "metadata": {
      "needs_background": "light"
     },
     "output_type": "display_data"
    }
   ],
   "source": [
    "plot_acf(df,alpha=0.05);"
   ]
  },
  {
   "cell_type": "code",
   "execution_count": 31,
   "id": "752f05bf",
   "metadata": {},
   "outputs": [
    {
     "name": "stderr",
     "output_type": "stream",
     "text": [
      "C:\\Users\\Arun Sivaji\\Anaconda3\\lib\\site-packages\\statsmodels\\regression\\linear_model.py:1434: RuntimeWarning: invalid value encountered in sqrt\n",
      "  return rho, np.sqrt(sigmasq)\n"
     ]
    },
    {
     "data": {
      "image/png": "[encoded data removed]",
      "text/plain": [
       "<Figure size 432x288 with 1 Axes>"
      ]
     },
     "metadata": {
      "needs_background": "light"
     },
     "output_type": "display_data"
    }
   ],
   "source": [
    "plot_pacf(df,zero=False,alpha=0.05);"
   ]
  },
  {
   "cell_type": "code",
   "execution_count": 32,
   "id": "feac64ee",
   "metadata": {},
   "outputs": [],
   "source": [
    "from statsmodels.tsa.arima_model import ARIMA"
   ]
  },
  {
   "cell_type": "code",
   "execution_count": 33,
   "id": "3f16f652",
   "metadata": {},
   "outputs": [
    {
     "name": "stdout",
     "output_type": "stream",
     "text": [
      "Examples of the parameter combinations for the Model\n",
      "Model: (0, 0, 0)\n",
      "Model: (0, 0, 1)\n",
      "Model: (0, 1, 0)\n",
      "Model: (0, 1, 1)\n",
      "Model: (1, 0, 0)\n",
      "Model: (1, 0, 1)\n",
      "Model: (1, 1, 0)\n",
      "Model: (1, 1, 1)\n"
     ]
    }
   ],
   "source": [
    "import itertools\n",
    "p = q = range(0, 2)\n",
    "d= range(0,2)\n",
    "pdq = list(itertools.product(p, d, q))\n",
    "print('Examples of the parameter combinations for the Model')\n",
    "for i in range(0,len(pdq)):\n",
    "    print('Model: {}'.format(pdq[i]))"
   ]
  },
  {
   "cell_type": "code",
   "execution_count": 34,
   "id": "b480d2d0",
   "metadata": {},
   "outputs": [
    {
     "data": {
      "text/html": [
       "<div>\n",
       "<style scoped>\n",
       "    .dataframe tbody tr th:only-of-type {\n",
       "        vertical-align: middle;\n",
       "    }\n",
       "\n",
       "    .dataframe tbody tr th {\n",
       "        vertical-align: top;\n",
       "    }\n",
       "\n",
       "    .dataframe thead th {\n",
       "        text-align: right;\n",
       "    }\n",
       "</style>\n",
       "<table border=\"1\" class=\"dataframe\">\n",
       "  <thead>\n",
       "    <tr style=\"text-align: right;\">\n",
       "      <th></th>\n",
       "      <th>param</th>\n",
       "      <th>AIC</th>\n",
       "    </tr>\n",
       "  </thead>\n",
       "  <tbody>\n",
       "  </tbody>\n",
       "</table>\n",
       "</div>"
      ],
      "text/plain": [
       "Empty DataFrame\n",
       "Columns: [param, AIC]\n",
       "Index: []"
      ]
     },
     "execution_count": 34,
     "metadata": {},
     "output_type": "execute_result"
    }
   ],
   "source": [
    "ARIMA_AIC = pd.DataFrame(columns=['param', 'AIC'])\n",
    "ARIMA_AIC"
   ]
  },
  {
   "cell_type": "code",
   "execution_count": 35,
   "id": "a0db537f",
   "metadata": {},
   "outputs": [
    {
     "name": "stdout",
     "output_type": "stream",
     "text": [
      "ARIMA(0, 0, 0) - AIC:1350.1562105027951\n",
      "ARIMA(0, 0, 1) - AIC:1324.11573096242\n",
      "ARIMA(0, 1, 0) - AIC:1332.803142534537\n",
      "ARIMA(0, 1, 1) - AIC:1330.9737886532228\n",
      "ARIMA(1, 0, 0) - AIC:1333.1983082820666\n",
      "ARIMA(1, 0, 1) - AIC:1325.501175748558\n",
      "ARIMA(1, 1, 0) - AIC:1334.5204814906942\n",
      "ARIMA(1, 1, 1) - AIC:1318.9420488042451\n"
     ]
    }
   ],
   "source": [
    "from statsmodels.tsa.arima.model import ARIMA\n",
    "\n",
    "for param in pdq:# running a loop within the pdq parameters defined by itertools\n",
    "    ARIMA_model = ARIMA(train['Sales'].values,order=param).fit()#fitting the ARIMA model\n",
    "    #using the parameters from the loop\n",
    "    print('ARIMA{} - AIC:{}'.format(param,ARIMA_model.aic))#printing the parameters and the AIC\n",
    "    #from the fitted models\n",
    "    ARIMA_AIC = ARIMA_AIC.append({'param':param, 'AIC': ARIMA_model.aic}, ignore_index=True)\n",
    "    #appending the AIC values and the model parameters to the previously created data frame\n",
    "    #for easier understanding and sorting of the AIC values"
   ]
  },
  {
   "cell_type": "code",
   "execution_count": 36,
   "id": "083c8d47",
   "metadata": {},
   "outputs": [
    {
     "data": {
      "text/html": [
       "<div>\n",
       "<style scoped>\n",
       "    .dataframe tbody tr th:only-of-type {\n",
       "        vertical-align: middle;\n",
       "    }\n",
       "\n",
       "    .dataframe tbody tr th {\n",
       "        vertical-align: top;\n",
       "    }\n",
       "\n",
       "    .dataframe thead th {\n",
       "        text-align: right;\n",
       "    }\n",
       "</style>\n",
       "<table border=\"1\" class=\"dataframe\">\n",
       "  <thead>\n",
       "    <tr style=\"text-align: right;\">\n",
       "      <th></th>\n",
       "      <th>param</th>\n",
       "      <th>AIC</th>\n",
       "    </tr>\n",
       "  </thead>\n",
       "  <tbody>\n",
       "    <tr>\n",
       "      <th>7</th>\n",
       "      <td>(1, 1, 1)</td>\n",
       "      <td>1318.942049</td>\n",
       "    </tr>\n",
       "    <tr>\n",
       "      <th>1</th>\n",
       "      <td>(0, 0, 1)</td>\n",
       "      <td>1324.115731</td>\n",
       "    </tr>\n",
       "    <tr>\n",
       "      <th>5</th>\n",
       "      <td>(1, 0, 1)</td>\n",
       "      <td>1325.501176</td>\n",
       "    </tr>\n",
       "    <tr>\n",
       "      <th>3</th>\n",
       "      <td>(0, 1, 1)</td>\n",
       "      <td>1330.973789</td>\n",
       "    </tr>\n",
       "    <tr>\n",
       "      <th>2</th>\n",
       "      <td>(0, 1, 0)</td>\n",
       "      <td>1332.803143</td>\n",
       "    </tr>\n",
       "  </tbody>\n",
       "</table>\n",
       "</div>"
      ],
      "text/plain": [
       "       param          AIC\n",
       "7  (1, 1, 1)  1318.942049\n",
       "1  (0, 0, 1)  1324.115731\n",
       "5  (1, 0, 1)  1325.501176\n",
       "3  (0, 1, 1)  1330.973789\n",
       "2  (0, 1, 0)  1332.803143"
      ]
     },
     "execution_count": 36,
     "metadata": {},
     "output_type": "execute_result"
    }
   ],
   "source": [
    "ARIMA_AIC.sort_values(by='AIC',ascending=True).head()"
   ]
  },
  {
   "cell_type": "code",
   "execution_count": 37,
   "id": "56d0ab43",
   "metadata": {},
   "outputs": [
    {
     "name": "stdout",
     "output_type": "stream",
     "text": [
      "                               SARIMAX Results                                \n",
      "==============================================================================\n",
      "Dep. Variable:                  Sales   No. Observations:                   73\n",
      "Model:                 ARIMA(1, 1, 1)   Log Likelihood                -656.471\n",
      "Date:                Mon, 16 May 2022   AIC                           1318.942\n",
      "Time:                        21:21:07   BIC                           1325.772\n",
      "Sample:                    01-01-1964   HQIC                          1321.661\n",
      "                         - 01-01-1970                                         \n",
      "Covariance Type:                  opg                                         \n",
      "==============================================================================\n",
      "                 coef    std err          z      P>|z|      [0.025      0.975]\n",
      "------------------------------------------------------------------------------\n",
      "ar.L1          0.4533      0.188      2.410      0.016       0.085       0.822\n",
      "ma.L1         -0.9491      0.109     -8.706      0.000      -1.163      -0.735\n",
      "sigma2      4.775e+06   6.42e+05      7.440      0.000    3.52e+06    6.03e+06\n",
      "===================================================================================\n",
      "Ljung-Box (L1) (Q):                   0.41   Jarque-Bera (JB):                 6.01\n",
      "Prob(Q):                              0.52   Prob(JB):                         0.05\n",
      "Heteroskedasticity (H):               3.28   Skew:                            -0.17\n",
      "Prob(H) (two-sided):                  0.01   Kurtosis:                         4.37\n",
      "===================================================================================\n",
      "\n",
      "Warnings:\n",
      "[1] Covariance matrix calculated using the outer product of gradients (complex-step).\n"
     ]
    },
    {
     "name": "stderr",
     "output_type": "stream",
     "text": [
      "C:\\Users\\Arun Sivaji\\Anaconda3\\lib\\site-packages\\statsmodels\\tsa\\base\\tsa_model.py:524: ValueWarning: No frequency information was provided, so inferred frequency MS will be used.\n",
      "  warnings.warn('No frequency information was'\n",
      "C:\\Users\\Arun Sivaji\\Anaconda3\\lib\\site-packages\\statsmodels\\tsa\\base\\tsa_model.py:524: ValueWarning: No frequency information was provided, so inferred frequency MS will be used.\n",
      "  warnings.warn('No frequency information was'\n",
      "C:\\Users\\Arun Sivaji\\Anaconda3\\lib\\site-packages\\statsmodels\\tsa\\base\\tsa_model.py:524: ValueWarning: No frequency information was provided, so inferred frequency MS will be used.\n",
      "  warnings.warn('No frequency information was'\n"
     ]
    }
   ],
   "source": [
    "auto_ARIMA = ARIMA(train, order=(1,1,1))\n",
    "\n",
    "results_auto_ARIMA = auto_ARIMA.fit()\n",
    "\n",
    "print(results_auto_ARIMA.summary())"
   ]
  },
  {
   "cell_type": "code",
   "execution_count": 42,
   "id": "f106a691",
   "metadata": {},
   "outputs": [
    {
     "name": "stdout",
     "output_type": "stream",
     "text": [
      "Examples of the parameter combinations for the Model are\n",
      "Model: (0, 1, 1)(0, 0, 1, 12)\n",
      "Model: (1, 1, 0)(1, 0, 0, 12)\n",
      "Model: (1, 1, 1)(1, 0, 1, 12)\n"
     ]
    }
   ],
   "source": [
    "import itertools\n",
    "p = q = range(0,2)\n",
    "d= range(1,2)\n",
    "D = range(0,1)\n",
    "pdq = list(itertools.product(p, d, q))\n",
    "PDQ = [(x[0], x[1], x[2], 12) for x in list(itertools.product(p, D, q))]\n",
    "print('Examples of the parameter combinations for the Model are')\n",
    "for i in range(1,len(pdq)):\n",
    "    print('Model: {}{}'.format(pdq[i], PDQ[i]))"
   ]
  },
  {
   "cell_type": "code",
   "execution_count": 43,
   "id": "c7f0f047",
   "metadata": {},
   "outputs": [
    {
     "data": {
      "text/html": [
       "<div>\n",
       "<style scoped>\n",
       "    .dataframe tbody tr th:only-of-type {\n",
       "        vertical-align: middle;\n",
       "    }\n",
       "\n",
       "    .dataframe tbody tr th {\n",
       "        vertical-align: top;\n",
       "    }\n",
       "\n",
       "    .dataframe thead th {\n",
       "        text-align: right;\n",
       "    }\n",
       "</style>\n",
       "<table border=\"1\" class=\"dataframe\">\n",
       "  <thead>\n",
       "    <tr style=\"text-align: right;\">\n",
       "      <th></th>\n",
       "      <th>param</th>\n",
       "      <th>seasonal</th>\n",
       "      <th>AIC</th>\n",
       "    </tr>\n",
       "  </thead>\n",
       "  <tbody>\n",
       "  </tbody>\n",
       "</table>\n",
       "</div>"
      ],
      "text/plain": [
       "Empty DataFrame\n",
       "Columns: [param, seasonal, AIC]\n",
       "Index: []"
      ]
     },
     "execution_count": 43,
     "metadata": {},
     "output_type": "execute_result"
    }
   ],
   "source": [
    "SARIMA_AIC = pd.DataFrame(columns=['param','seasonal', 'AIC'])\n",
    "SARIMA_AIC"
   ]
  },
  {
   "cell_type": "code",
   "execution_count": 44,
   "id": "6383b3a4",
   "metadata": {},
   "outputs": [
    {
     "name": "stdout",
     "output_type": "stream",
     "text": [
      "SARIMA(0, 1, 0)x(0, 0, 0, 12) - AIC:1315.3228752485954\n",
      "SARIMA(0, 1, 0)x(0, 0, 1, 12) - AIC:1057.001738549921\n",
      "SARIMA(0, 1, 0)x(1, 0, 0, 12) - AIC:1000.2892052378714\n",
      "SARIMA(0, 1, 0)x(1, 0, 1, 12) - AIC:968.3500284314472\n",
      "SARIMA(0, 1, 1)x(0, 0, 0, 12) - AIC:1294.8001309474105\n"
     ]
    },
    {
     "name": "stderr",
     "output_type": "stream",
     "text": [
      "C:\\Users\\Arun Sivaji\\Anaconda3\\lib\\site-packages\\statsmodels\\base\\model.py:566: ConvergenceWarning: Maximum Likelihood optimization failed to converge. Check mle_retvals\n",
      "  warnings.warn(\"Maximum Likelihood optimization failed to \"\n"
     ]
    },
    {
     "name": "stdout",
     "output_type": "stream",
     "text": [
      "SARIMA(0, 1, 1)x(0, 0, 1, 12) - AIC:1028.106956560137\n",
      "SARIMA(0, 1, 1)x(1, 0, 0, 12) - AIC:959.3656831554895\n",
      "SARIMA(0, 1, 1)x(1, 0, 1, 12) - AIC:913.1509872612419\n",
      "SARIMA(1, 1, 0)x(0, 0, 0, 12) - AIC:1317.0262156561575\n",
      "SARIMA(1, 1, 0)x(0, 0, 1, 12) - AIC:1058.2034401296003\n",
      "SARIMA(1, 1, 0)x(1, 0, 0, 12) - AIC:965.1531105855369\n",
      "SARIMA(1, 1, 0)x(1, 0, 1, 12) - AIC:944.7965087404357\n",
      "SARIMA(1, 1, 1)x(0, 0, 0, 12) - AIC:1284.8382990061773\n",
      "SARIMA(1, 1, 1)x(0, 0, 1, 12) - AIC:1025.124108433994\n",
      "SARIMA(1, 1, 1)x(1, 0, 0, 12) - AIC:936.8755084985362\n",
      "SARIMA(1, 1, 1)x(1, 0, 1, 12) - AIC:912.8275981785514\n"
     ]
    }
   ],
   "source": [
    "import statsmodels.api as sm\n",
    "\n",
    "for param in pdq:\n",
    "    for param_seasonal in PDQ:\n",
    "        SARIMA_model = sm.tsa.statespace.SARIMAX(train['Sales'].values,\n",
    "                                            order=param,\n",
    "                                            seasonal_order=param_seasonal,\n",
    "                                            enforce_stationarity=False,\n",
    "                                            enforce_invertibility=False)\n",
    "            \n",
    "        results_SARIMA = SARIMA_model.fit(maxiter=1000)\n",
    "        print('SARIMA{}x{} - AIC:{}'.format(param, param_seasonal, results_SARIMA.aic))\n",
    "        SARIMA_AIC = SARIMA_AIC.append({'param':param,'seasonal':param_seasonal ,'AIC': results_SARIMA.aic}, ignore_index=True)"
   ]
  },
  {
   "cell_type": "code",
   "execution_count": 45,
   "id": "d493979f",
   "metadata": {},
   "outputs": [
    {
     "data": {
      "text/html": [
       "<div>\n",
       "<style scoped>\n",
       "    .dataframe tbody tr th:only-of-type {\n",
       "        vertical-align: middle;\n",
       "    }\n",
       "\n",
       "    .dataframe tbody tr th {\n",
       "        vertical-align: top;\n",
       "    }\n",
       "\n",
       "    .dataframe thead th {\n",
       "        text-align: right;\n",
       "    }\n",
       "</style>\n",
       "<table border=\"1\" class=\"dataframe\">\n",
       "  <thead>\n",
       "    <tr style=\"text-align: right;\">\n",
       "      <th></th>\n",
       "      <th>param</th>\n",
       "      <th>seasonal</th>\n",
       "      <th>AIC</th>\n",
       "    </tr>\n",
       "  </thead>\n",
       "  <tbody>\n",
       "    <tr>\n",
       "      <th>15</th>\n",
       "      <td>(1, 1, 1)</td>\n",
       "      <td>(1, 0, 1, 12)</td>\n",
       "      <td>912.827598</td>\n",
       "    </tr>\n",
       "    <tr>\n",
       "      <th>7</th>\n",
       "      <td>(0, 1, 1)</td>\n",
       "      <td>(1, 0, 1, 12)</td>\n",
       "      <td>913.150987</td>\n",
       "    </tr>\n",
       "    <tr>\n",
       "      <th>14</th>\n",
       "      <td>(1, 1, 1)</td>\n",
       "      <td>(1, 0, 0, 12)</td>\n",
       "      <td>936.875508</td>\n",
       "    </tr>\n",
       "    <tr>\n",
       "      <th>11</th>\n",
       "      <td>(1, 1, 0)</td>\n",
       "      <td>(1, 0, 1, 12)</td>\n",
       "      <td>944.796509</td>\n",
       "    </tr>\n",
       "    <tr>\n",
       "      <th>6</th>\n",
       "      <td>(0, 1, 1)</td>\n",
       "      <td>(1, 0, 0, 12)</td>\n",
       "      <td>959.365683</td>\n",
       "    </tr>\n",
       "  </tbody>\n",
       "</table>\n",
       "</div>"
      ],
      "text/plain": [
       "        param       seasonal         AIC\n",
       "15  (1, 1, 1)  (1, 0, 1, 12)  912.827598\n",
       "7   (0, 1, 1)  (1, 0, 1, 12)  913.150987\n",
       "14  (1, 1, 1)  (1, 0, 0, 12)  936.875508\n",
       "11  (1, 1, 0)  (1, 0, 1, 12)  944.796509\n",
       "6   (0, 1, 1)  (1, 0, 0, 12)  959.365683"
      ]
     },
     "execution_count": 45,
     "metadata": {},
     "output_type": "execute_result"
    }
   ],
   "source": [
    "SARIMA_AIC.sort_values(by=['AIC']).head()"
   ]
  },
  {
   "cell_type": "code",
   "execution_count": 56,
   "id": "3f2e5761",
   "metadata": {},
   "outputs": [
    {
     "name": "stderr",
     "output_type": "stream",
     "text": [
      "C:\\Users\\Arun Sivaji\\Anaconda3\\lib\\site-packages\\statsmodels\\tsa\\base\\tsa_model.py:524: ValueWarning: No frequency information was provided, so inferred frequency MS will be used.\n",
      "  warnings.warn('No frequency information was'\n",
      "C:\\Users\\Arun Sivaji\\Anaconda3\\lib\\site-packages\\statsmodels\\tsa\\base\\tsa_model.py:524: ValueWarning: No frequency information was provided, so inferred frequency MS will be used.\n",
      "  warnings.warn('No frequency information was'\n"
     ]
    },
    {
     "name": "stdout",
     "output_type": "stream",
     "text": [
      "                                     SARIMAX Results                                      \n",
      "==========================================================================================\n",
      "Dep. Variable:                              Sales   No. Observations:                  105\n",
      "Model:             SARIMAX(1, 1, 1)x(1, 0, 1, 12)   Log Likelihood                -718.102\n",
      "Date:                            Mon, 16 May 2022   AIC                           1446.204\n",
      "Time:                                    21:28:21   BIC                           1458.703\n",
      "Sample:                                01-01-1964   HQIC                          1451.244\n",
      "                                     - 09-01-1972                                         \n",
      "Covariance Type:                              opg                                         \n",
      "==============================================================================\n",
      "                 coef    std err          z      P>|z|      [0.025      0.975]\n",
      "------------------------------------------------------------------------------\n",
      "ar.L1          0.2081      0.102      2.038      0.042       0.008       0.408\n",
      "ma.L1         -1.1211      0.080    -14.005      0.000      -1.278      -0.964\n",
      "ar.S.L12       1.0924      0.016     69.486      0.000       1.062       1.123\n",
      "ma.S.L12      -0.5924      0.106     -5.613      0.000      -0.799      -0.386\n",
      "sigma2      3.604e+05   7.17e+04      5.026      0.000     2.2e+05    5.01e+05\n",
      "===================================================================================\n",
      "Ljung-Box (L1) (Q):                   0.00   Jarque-Bera (JB):                17.18\n",
      "Prob(Q):                              0.98   Prob(JB):                         0.00\n",
      "Heteroskedasticity (H):               1.39   Skew:                            -0.68\n",
      "Prob(H) (two-sided):                  0.37   Kurtosis:                         4.64\n",
      "===================================================================================\n",
      "\n",
      "Warnings:\n",
      "[1] Covariance matrix calculated using the outer product of gradients (complex-step).\n"
     ]
    }
   ],
   "source": [
    "full_data_model = sm.tsa.statespace.SARIMAX(df['Sales'],\n",
    "                                order=(1,1,1),\n",
    "                                seasonal_order=(1, 0, 1, 12),\n",
    "                                enforce_stationarity=False,\n",
    "                                enforce_invertibility=False)\n",
    "results_full_data_model = full_data_model.fit(maxiter=1000)\n",
    "print(results_full_data_model.summary())"
   ]
  },
  {
   "cell_type": "code",
   "execution_count": 59,
   "id": "366f9cb1",
   "metadata": {},
   "outputs": [],
   "source": [
    "predicted_manual_SARIMA_full_data = results_full_data_model.get_forecast(steps=20)"
   ]
  },
  {
   "cell_type": "code",
   "execution_count": 60,
   "id": "d0182065",
   "metadata": {},
   "outputs": [
    {
     "data": {
      "text/html": [
       "<div>\n",
       "<style scoped>\n",
       "    .dataframe tbody tr th:only-of-type {\n",
       "        vertical-align: middle;\n",
       "    }\n",
       "\n",
       "    .dataframe tbody tr th {\n",
       "        vertical-align: top;\n",
       "    }\n",
       "\n",
       "    .dataframe thead th {\n",
       "        text-align: right;\n",
       "    }\n",
       "</style>\n",
       "<table border=\"1\" class=\"dataframe\">\n",
       "  <thead>\n",
       "    <tr style=\"text-align: right;\">\n",
       "      <th>Sales</th>\n",
       "      <th>mean</th>\n",
       "      <th>mean_se</th>\n",
       "      <th>mean_ci_lower</th>\n",
       "      <th>mean_ci_upper</th>\n",
       "    </tr>\n",
       "  </thead>\n",
       "  <tbody>\n",
       "    <tr>\n",
       "      <th>1972-10-01</th>\n",
       "      <td>7427.378334</td>\n",
       "      <td>673.052744</td>\n",
       "      <td>6108.219196</td>\n",
       "      <td>8746.537471</td>\n",
       "    </tr>\n",
       "    <tr>\n",
       "      <th>1972-11-01</th>\n",
       "      <td>11236.537366</td>\n",
       "      <td>705.893786</td>\n",
       "      <td>9853.010968</td>\n",
       "      <td>12620.063764</td>\n",
       "    </tr>\n",
       "    <tr>\n",
       "      <th>1972-12-01</th>\n",
       "      <td>14573.104526</td>\n",
       "      <td>715.526621</td>\n",
       "      <td>13170.698120</td>\n",
       "      <td>15975.510932</td>\n",
       "    </tr>\n",
       "    <tr>\n",
       "      <th>1973-01-01</th>\n",
       "      <td>4169.019223</td>\n",
       "      <td>722.082225</td>\n",
       "      <td>2753.764068</td>\n",
       "      <td>5584.274379</td>\n",
       "    </tr>\n",
       "    <tr>\n",
       "      <th>1973-02-01</th>\n",
       "      <td>3533.638902</td>\n",
       "      <td>728.031647</td>\n",
       "      <td>2106.723095</td>\n",
       "      <td>4960.554709</td>\n",
       "    </tr>\n",
       "  </tbody>\n",
       "</table>\n",
       "</div>"
      ],
      "text/plain": [
       "Sales               mean     mean_se  mean_ci_lower  mean_ci_upper\n",
       "1972-10-01   7427.378334  673.052744    6108.219196    8746.537471\n",
       "1972-11-01  11236.537366  705.893786    9853.010968   12620.063764\n",
       "1972-12-01  14573.104526  715.526621   13170.698120   15975.510932\n",
       "1973-01-01   4169.019223  722.082225    2753.764068    5584.274379\n",
       "1973-02-01   3533.638902  728.031647    2106.723095    4960.554709"
      ]
     },
     "execution_count": 60,
     "metadata": {},
     "output_type": "execute_result"
    }
   ],
   "source": [
    "pred_full_manual_SARIMA_date = predicted_manual_SARIMA_full_data.summary_frame(alpha=0.05)\n",
    "pred_full_manual_SARIMA_date.head()"
   ]
  },
  {
   "cell_type": "code",
   "execution_count": 61,
   "id": "468b13b1",
   "metadata": {},
   "outputs": [],
   "source": [
    "predicted_manual_SARIMA_full_data = results_full_data_model.get_forecast(steps=20)"
   ]
  },
  {
   "cell_type": "code",
   "execution_count": 62,
   "id": "6dd3cb00",
   "metadata": {},
   "outputs": [
    {
     "data": {
      "image/png": "[encoded data removed]",
      "text/plain": [
       "<Figure size 432x288 with 1 Axes>"
      ]
     },
     "metadata": {
      "needs_background": "light"
     },
     "output_type": "display_data"
    }
   ],
   "source": [
    "axis = df['Sales'].plot(label='Observed')\n",
    "pred_full_manual_SARIMA_date['mean'].plot(ax=axis, label='Forecast', alpha=0.7)\n",
    "\n",
    "axis.set_xlabel('month')\n",
    "axis.set_ylabel('Sales')\n",
    "plt.legend(loc='best')\n",
    "plt.grid();"
   ]
  },
  {
   "cell_type": "code",
   "execution_count": null,
   "id": "f22ecfa1",
   "metadata": {},
   "outputs": [],
   "source": []
  }
 ],
 "metadata": {
  "kernelspec": {
   "display_name": "Python 3",
   "language": "python",
   "name": "python3"
  },
  "language_info": {
   "codemirror_mode": {
    "name": "ipython",
    "version": 3
   },
   "file_extension": ".py",
   "mimetype": "text/x-python",
   "name": "python",
   "nbconvert_exporter": "python",
   "pygments_lexer": "ipython3",
   "version": "3.8.8"
  }
 },
 "nbformat": 4,
 "nbformat_minor": 5
}
